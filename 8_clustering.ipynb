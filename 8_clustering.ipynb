{
  "metadata": {
    "kernelspec": {
      "language": "python",
      "display_name": "Python 3",
      "name": "python3"
    },
    "language_info": {
      "name": "python",
      "version": "3.7.12",
      "mimetype": "text/x-python",
      "codemirror_mode": {
        "name": "ipython",
        "version": 3
      },
      "pygments_lexer": "ipython3",
      "nbconvert_exporter": "python",
      "file_extension": ".py"
    },
    "colab": {
      "name": "8-clustering.ipynb",
      "provenance": []
    }
  },
  "nbformat_minor": 0,
  "nbformat": 4,
  "cells": [
    {
      "cell_type": "markdown",
      "source": [
        "Each task that is proposed to be completed as part of the homework has a declared \"price\" in points. The maximum possible amount is 10 points, and together with bonus assignments - 12 points. It is not necessary to complete all the tasks, only a part can be done. Most of the points expect you to write working Python code; sometimes you will need to write comments - for example, to compare several approaches to solve the same problem. Also you can add more cells for your convenience if you need."
      ],
      "metadata": {
        "id": "mBUFya7h3uM0"
      }
    },
    {
      "cell_type": "markdown",
      "source": [
        "This homework focuses on clustering. We will work with images of handwritten digits, learn how to cluster them using two different methods (hierarchical clustering and the 𝐾-means algorithm), evaluate the quality of the partition and choose the optimal number of clusters, as well as visualize intermediate results."
      ],
      "metadata": {
        "id": "h6-aOGEo3uM7"
      }
    },
    {
      "cell_type": "markdown",
      "source": [
        "## 1. Loading data\n",
        "The data we will be working with is available in the scikit-learn library (`sklearn` module) in the `datasets` submodule via the `load_digits` function. The data contains 1,797 observations, each of which is 8×8 pixel image of a handwritten digit from 0 to 9. This is about the same amount of each digit (about 180).\n",
        "\n",
        "For convenience, every image expands to a 64 (8×8) row, so entire numpy array is 1797×64. The color intensity in each pixel is encoded with an integer from 0 to 16.\n",
        "\n",
        "In addition to images, their labels are also known. In this task, we will assume that the labels (as well as their amount) are unknown and try to group the data in such a way that the resulting clusters 'better match' the original ones. Possible options for determining the 'better match' are presented later."
      ],
      "metadata": {
        "id": "kJy6CuhJ3uM9"
      }
    },
    {
      "cell_type": "markdown",
      "source": [
        "**(0.25 points)** Load the images into `X` variable, and their labels into `y` variable."
      ],
      "metadata": {
        "id": "VJE6lZOX3uM-"
      }
    },
    {
      "cell_type": "code",
      "source": [
        "from sklearn import datasets\n",
        "X, y = datasets.load_digits(n_class=10, return_X_y=True)"
      ],
      "metadata": {
        "execution": {
          "iopub.status.busy": "2022-04-24T18:12:48.154415Z",
          "iopub.execute_input": "2022-04-24T18:12:48.154678Z",
          "iopub.status.idle": "2022-04-24T18:12:48.330106Z",
          "shell.execute_reply.started": "2022-04-24T18:12:48.154652Z",
          "shell.execute_reply": "2022-04-24T18:12:48.329070Z"
        },
        "trusted": true,
        "id": "Ts_uvzBI3uM_"
      },
      "execution_count": 1,
      "outputs": []
    },
    {
      "cell_type": "code",
      "source": [
        "assert X.shape == (1797, 64)\n",
        "assert y.shape == (1797,)"
      ],
      "metadata": {
        "execution": {
          "iopub.status.busy": "2022-04-24T18:12:48.331377Z",
          "iopub.execute_input": "2022-04-24T18:12:48.331593Z",
          "iopub.status.idle": "2022-04-24T18:12:48.336515Z",
          "shell.execute_reply.started": "2022-04-24T18:12:48.331567Z",
          "shell.execute_reply": "2022-04-24T18:12:48.335679Z"
        },
        "trusted": true,
        "id": "rOxmDat23uNB"
      },
      "execution_count": 2,
      "outputs": []
    },
    {
      "cell_type": "markdown",
      "source": [
        "**(0.5 points)** Visualize the first 10 images.\n",
        "\n",
        "- Arrange images on a grid rather than in a row. You may need the `subplot` and `imshow` functions from the `pyplot` module in the `matplotlib` library.\n",
        "- You will also need to reshape the images to 8×8.\n",
        "- Remove ticks and labels from both axes. The `xticks` and `yticks` functions or the `tick_params` function from `pyplot` can help you with this.\n",
        "- Make the output good sized with the `figure` function from `pyplot`."
      ],
      "metadata": {
        "id": "3N37TFmj3uND"
      }
    },
    {
      "cell_type": "code",
      "source": [
        "import matplotlib.pyplot as plt\n",
        "\n",
        "_, axes = plt.subplots(nrows=3, ncols=7, figsize=(10, 5))\n",
        "for ax, image, label in zip(axes.flatten(), X, y):\n",
        "    ax.set_axis_off()\n",
        "    plt.xticks([])\n",
        "    plt.yticks([])\n",
        "    ax.imshow(image.reshape((8, 8)), cmap=plt.cm.afmhot_r)\n"
      ],
      "metadata": {
        "execution": {
          "iopub.status.busy": "2022-04-24T18:12:48.337446Z",
          "iopub.execute_input": "2022-04-24T18:12:48.338072Z",
          "iopub.status.idle": "2022-04-24T18:12:49.146346Z",
          "shell.execute_reply.started": "2022-04-24T18:12:48.338043Z",
          "shell.execute_reply": "2022-04-24T18:12:49.145916Z"
        },
        "trusted": true,
        "colab": {
          "base_uri": "https://localhost:8080/",
          "height": 291
        },
        "id": "m47RobYU3uNE",
        "outputId": "f81804fa-379e-4f03-c63b-f299600b47e2"
      },
      "execution_count": 3,
      "outputs": [
        {
          "output_type": "display_data",
          "data": {
            "text/plain": [
              "<Figure size 720x360 with 21 Axes>"
            ],
            "image/png": "[encoded data removed]"
          },
          "metadata": {
            "needs_background": "light"
          }
        }
      ]
    },
    {
      "cell_type": "markdown",
      "source": [
        "## 2. Clustering and quality evaluation"
      ],
      "metadata": {
        "id": "BxsrIJNV3uNF"
      }
    },
    {
      "cell_type": "markdown",
      "source": [
        "**(2 points)** Implement the the KMeans algorithm. Use objective function $L = \\sum_{i=1}^{n}|x_{i}-Z_{A(x_{i})}|^{2}$, where $Z_{A(x_{i})}$ is the center of the cluster corresponding to $x_{i}$ object."
      ],
      "metadata": {
        "id": "Vy6I885H3uNG"
      }
    },
    {
      "cell_type": "code",
      "source": [
        "from sklearn.exceptions import NotFittedError\n",
        "from numpy.random import RandomState"
      ],
      "metadata": {
        "execution": {
          "iopub.status.busy": "2022-04-24T18:12:49.147794Z",
          "iopub.execute_input": "2022-04-24T18:12:49.148055Z",
          "iopub.status.idle": "2022-04-24T18:12:49.151367Z",
          "shell.execute_reply.started": "2022-04-24T18:12:49.148032Z",
          "shell.execute_reply": "2022-04-24T18:12:49.150488Z"
        },
        "trusted": true,
        "id": "PquZGmIK3uNG"
      },
      "execution_count": 4,
      "outputs": []
    },
    {
      "cell_type": "code",
      "source": [
        "class CustomKMeans:\n",
        "    def __init__(self, n_clusters=2, max_iter=30, n_init=10, random_state=42):\n",
        "        '''K-Means clustering.\n",
        "        \n",
        "        Args:\n",
        "            n_clusters: int, default=2\n",
        "                The number of clusters to be formed is also \n",
        "                the number of centroids to generate. \n",
        "            max_iter: int, default=300\n",
        "                Maximum number of iterations of the k-means algorithm for a\n",
        "                single run.\n",
        "            n_init: int, default=10\n",
        "                Number of time the k-means algorithm will be run with different\n",
        "                centroid seeds. The final results will be the best output of\n",
        "                n_init consecutive runs in terms of objective function.\n",
        "            random_state: int, default=42\n",
        "                Random state.\n",
        "        '''\n",
        "        self.n_clusters = n_clusters\n",
        "        self.n_init = 10\n",
        "        self.max_iter = 300\n",
        "        self.random_state = RandomState(seed=random_state)\n",
        "        \n",
        "    def calculate_distances_to_centroids(self, X, cluster_centers):\n",
        "        \"\"\"\n",
        "        Returns (n, c) matrix where the element at position (i, j) \n",
        "        is the distance from i-th object to j-th centroid.\"\"\"\n",
        "        # <your code>\n",
        "        pass\n",
        "    \n",
        "    def update_centroids(self, X, nearest_clusters):\n",
        "        \"\"\"\n",
        "        Returns numpy array of shape (n_clusters, n_features) - \n",
        "        new clusters that are found by averaging objects belonging \n",
        "        to the corresponding cluster.\"\"\"\n",
        "        # <your code>\n",
        "        pass\n",
        "        \n",
        "    def fit(self, X):\n",
        "        \"\"\"Fit the model.\n",
        "        \n",
        "        Args:\n",
        "            X: numpy array of shape (n_samples, n_features)\n",
        "        \"\"\"\n",
        "        assert X.shape[0] >= self.n_clusters\n",
        "        # <your code>\n",
        "        \n",
        "        return self\n",
        "            \n",
        "    \n",
        "    def predict(self, X):\n",
        "        \"\"\"Predict classes.\n",
        "        \n",
        "        Args:\n",
        "            X: numpy array of shape (n_samples, n_features)\n",
        "        Returns:\n",
        "            y: numpy array of shape (n_samples,)\n",
        "                Vector containing predicted cluster labels.\n",
        "        \"\"\"\n",
        "        if hasattr(self, 'cluster_centers_'):\n",
        "            # <your code>\n",
        "            pass\n",
        "        else: \n",
        "            raise NotFittedError(\"CustomKMeans instance is not fitted yet\")"
      ],
      "metadata": {
        "execution": {
          "iopub.status.busy": "2022-04-24T18:12:49.152434Z",
          "iopub.execute_input": "2022-04-24T18:12:49.152687Z",
          "iopub.status.idle": "2022-04-24T18:12:49.162713Z",
          "shell.execute_reply.started": "2022-04-24T18:12:49.152665Z",
          "shell.execute_reply": "2022-04-24T18:12:49.162027Z"
        },
        "trusted": true,
        "id": "LlE9IPJf3uNH"
      },
      "execution_count": 5,
      "outputs": []
    },
    {
      "cell_type": "markdown",
      "source": [
        "**(1 points)** Get the `X` array partition into 10 clusters. Visualize the centers of clusters.\n",
        "- We will assume that the center of the cluster is average value of all observations belonging to the cluster.\n",
        "- The cluster centers should have the same shape as our observations (64). So you have to average the points across the rows."
      ],
      "metadata": {
        "id": "LFY-9uW93uNI"
      }
    },
    {
      "cell_type": "code",
      "source": [
        "# собственный класс не делала\n",
        "# k-means++ для сравнения,так как далее вроде рандом\n",
        "from sklearn.cluster import KMeans\n",
        "import numpy as np\n",
        "kmeans = KMeans(init=\"k-means++\", n_clusters=10,random_state=42)\n",
        "kmeans.fit(X)\n",
        "print(kmeans.labels_.shape)\n",
        "print(kmeans.cluster_centers_.shape)"
      ],
      "metadata": {
        "execution": {
          "iopub.status.busy": "2022-04-24T18:12:49.163657Z",
          "iopub.execute_input": "2022-04-24T18:12:49.164256Z",
          "iopub.status.idle": "2022-04-24T18:12:50.678692Z",
          "shell.execute_reply.started": "2022-04-24T18:12:49.164221Z",
          "shell.execute_reply": "2022-04-24T18:12:50.678239Z"
        },
        "trusted": true,
        "colab": {
          "base_uri": "https://localhost:8080/"
        },
        "id": "ewo2B2rm3uNJ",
        "outputId": "eb437ae0-e2e0-4f9b-98ff-eb2224f0ea4b"
      },
      "execution_count": 6,
      "outputs": [
        {
          "output_type": "stream",
          "name": "stdout",
          "text": [
            "(1797,)\n",
            "(10, 64)\n"
          ]
        }
      ]
    },
    {
      "cell_type": "code",
      "source": [
        "custom_kmeans_labels = kmeans.labels_\n",
        "assert custom_kmeans_labels.shape == (1797,)"
      ],
      "metadata": {
        "execution": {
          "iopub.status.busy": "2022-04-24T18:12:50.681093Z",
          "iopub.execute_input": "2022-04-24T18:12:50.682518Z",
          "iopub.status.idle": "2022-04-24T18:12:50.686621Z",
          "shell.execute_reply.started": "2022-04-24T18:12:50.682490Z",
          "shell.execute_reply": "2022-04-24T18:12:50.686092Z"
        },
        "trusted": true,
        "id": "Mwd5U02C3uNK"
      },
      "execution_count": 7,
      "outputs": []
    },
    {
      "cell_type": "code",
      "source": [
        "labels = kmeans.labels_ #labels = kmeans.predict(X)\n",
        "centers_library = kmeans.cluster_centers_\n",
        "centers_average = []\n",
        "for cluster in range(10):\n",
        "    centers_average.append(np.mean(X[labels == cluster],axis = 0))\n",
        "#сверимся с библиотечными данными\n",
        "assert np.allclose(np.array(centers_library), np.array(centers_average))\n",
        "_, axes = plt.subplots(nrows=2, ncols=5, figsize=(10, 5))\n",
        "for ax, image_average, label in zip(axes.flatten(), centers_average, labels):\n",
        "    ax.set_axis_off()    \n",
        "    ax.imshow(image_average.reshape((8, 8)), cmap=plt.cm.afmhot_r)\n"
      ],
      "metadata": {
        "execution": {
          "iopub.status.busy": "2022-04-24T18:12:50.688336Z",
          "iopub.execute_input": "2022-04-24T18:12:50.688629Z",
          "iopub.status.idle": "2022-04-24T18:12:50.988613Z",
          "shell.execute_reply.started": "2022-04-24T18:12:50.688597Z",
          "shell.execute_reply": "2022-04-24T18:12:50.988219Z"
        },
        "trusted": true,
        "colab": {
          "base_uri": "https://localhost:8080/",
          "height": 275
        },
        "id": "r1vfoqeL3uNL",
        "outputId": "6a180372-593d-4e3c-d47d-a7928f1cd7e9"
      },
      "execution_count": 8,
      "outputs": [
        {
          "output_type": "display_data",
          "data": {
            "text/plain": [
              "<Figure size 720x360 with 10 Axes>"
            ],
            "image/png": "[encoded data removed]"
          },
          "metadata": {
            "needs_background": "light"
          }
        }
      ]
    },
    {
      "cell_type": "markdown",
      "source": [
        "**(0.5 points)** Experiment with `max_iter` and `n_init` parameters. Look at the range of values of the objective function, it's best values, at what parameters and how often they are achieved."
      ],
      "metadata": {
        "id": "4uk6efAN3uNL"
      }
    },
    {
      "cell_type": "code",
      "source": [
        "\n",
        "def plot_fit(y, x,xlabel='', ylabel='', label = 'max_iter', title = 'Plot'):\n",
        "    plt.figure(figsize=(9, 4.5))\n",
        "    plt.plot(x, y, label=label)\n",
        "    plt.xlabel(xlabel)\n",
        "    plt.ylabel(ylabel)\n",
        "    plt.title(title)\n",
        "    plt.show()\n",
        "    \n",
        "objective = []\n",
        "MAX_ITER = np.linspace(1, 500, 1 + 40, dtype=int)\n",
        "#print(MAX_ITER)\n",
        "for iter in MAX_ITER:\n",
        "    kmeans = KMeans(init=\"k-means++\", n_clusters=10,max_iter = iter,random_state=42)\n",
        "    kmeans.fit(X)    \n",
        "    objective.append(kmeans.inertia_)\n",
        "#print(objective)\n",
        "plot_fit(objective, MAX_ITER, 'max_iter','objective')\n",
        "max_iter = MAX_ITER[np.argmin(objective)]\n",
        "print(f'Оптимальное кол-чество итераций: {MAX_ITER[np.argmin(objective)]}')"
      ],
      "metadata": {
        "execution": {
          "iopub.status.busy": "2022-04-24T18:12:50.989347Z",
          "iopub.execute_input": "2022-04-24T18:12:50.990002Z",
          "iopub.status.idle": "2022-04-24T18:13:49.254919Z",
          "shell.execute_reply.started": "2022-04-24T18:12:50.989979Z",
          "shell.execute_reply": "2022-04-24T18:13:49.253999Z"
        },
        "trusted": true,
        "colab": {
          "base_uri": "https://localhost:8080/",
          "height": 340
        },
        "id": "jiM-zMJ-3uNM",
        "outputId": "4ab00b32-96a5-4ff5-e066-ce12bc9b7f57"
      },
      "execution_count": 9,
      "outputs": [
        {
          "output_type": "display_data",
          "data": {
            "text/plain": [
              "<Figure size 648x324 with 1 Axes>"
            ],
            "image/png": "[encoded data removed]"
          },
          "metadata": {
            "needs_background": "light"
          }
        },
        {
          "output_type": "stream",
          "name": "stdout",
          "text": [
            "Оптимальное кол-чество итераций: 13\n"
          ]
        }
      ]
    },
    {
      "cell_type": "markdown",
      "source": [
        "Для n_init = 10 оптимальное количество итераций k-mean алгоритма получилось 13. Переобучения или сильного влияния парметра на результат не наблюдается. Поэтому посмотрим на совокупное влияние исследуемых парамеров."
      ],
      "metadata": {
        "id": "RpLJ6rkN3uNM"
      }
    },
    {
      "cell_type": "code",
      "source": [
        "\n",
        "def plot_fit(y, x,xlabel='', ylabel='', label = 'max_iter', title = 'Plot'):\n",
        "    plt.figure(figsize=(9, 4.5))\n",
        "    plt.plot(x, y[0], label=label+'1')\n",
        "    plt.plot(x, y[1], label=label+'5')\n",
        "    plt.plot(x, y[2], label=label+'13')\n",
        "    plt.plot(x, y[3], label=label+'50')\n",
        "    plt.xlabel(xlabel)\n",
        "    plt.ylabel(ylabel)\n",
        "    plt.title(title)\n",
        "    plt.legend()\n",
        "    plt.show()\n",
        "objective = [[],[],[],[]]\n",
        "i=0\n",
        "N_INIT = np.linspace(1, 20, 1 + 20, dtype=int)\n",
        "MAX_ITER = [1,5,13,50]\n",
        "for iter in MAX_ITER:\n",
        "    for init in N_INIT:\n",
        "        kmeans = KMeans(init=\"k-means++\", n_clusters=10,max_iter = iter,n_init = init, random_state=42)\n",
        "        kmeans.fit(X)\n",
        "        objective[i].append(kmeans.inertia_)\n",
        "    i=i+1\n",
        "    \n",
        "plot_fit(objective, N_INIT, 'n_init','objective')\n"
      ],
      "metadata": {
        "execution": {
          "iopub.status.busy": "2022-04-24T18:13:49.258396Z",
          "iopub.execute_input": "2022-04-24T18:13:49.258618Z",
          "iopub.status.idle": "2022-04-24T18:15:37.950573Z",
          "shell.execute_reply.started": "2022-04-24T18:13:49.258592Z",
          "shell.execute_reply": "2022-04-24T18:15:37.949840Z"
        },
        "trusted": true,
        "colab": {
          "base_uri": "https://localhost:8080/",
          "height": 323
        },
        "id": "TKrXe_Mu3uNN",
        "outputId": "450b23c6-ca1c-48d4-ec50-2611345aae37"
      },
      "execution_count": 10,
      "outputs": [
        {
          "output_type": "display_data",
          "data": {
            "text/plain": [
              "<Figure size 648x324 with 1 Axes>"
            ],
            "image/png": "[encoded data removed]"
          },
          "metadata": {
            "needs_background": "light"
          }
        }
      ]
    },
    {
      "cell_type": "code",
      "source": [
        "# По графику max_iter=13 и max_iter=50 быстрее сходятся\n",
        "print(f'Оптимальное кол-во при max_iter = 13: {N_INIT[np.argmin(objective[2])]}')\n",
        "print(f'Оптимальное кол-во при max_iter = 50: {N_INIT[np.argmin(objective[3])]}')\n",
        "print(f'Выйгрыш от : {np.abs(np.argmin(objective[2])-np.argmin(objective[3]))}')\n"
      ],
      "metadata": {
        "execution": {
          "iopub.status.busy": "2022-04-24T18:15:37.951860Z",
          "iopub.execute_input": "2022-04-24T18:15:37.952066Z",
          "iopub.status.idle": "2022-04-24T18:15:37.957201Z",
          "shell.execute_reply.started": "2022-04-24T18:15:37.952040Z",
          "shell.execute_reply": "2022-04-24T18:15:37.956735Z"
        },
        "trusted": true,
        "colab": {
          "base_uri": "https://localhost:8080/"
        },
        "id": "ptyXqZOe3uNO",
        "outputId": "8802d6ba-0800-4452-e752-3db7c59045c2"
      },
      "execution_count": 11,
      "outputs": [
        {
          "output_type": "stream",
          "name": "stdout",
          "text": [
            "Оптимальное кол-во при max_iter = 13: 4\n",
            "Оптимальное кол-во при max_iter = 50: 12\n",
            "Выйгрыш от : 8\n"
          ]
        }
      ]
    },
    {
      "cell_type": "markdown",
      "source": [
        "На предложенном датасете оптимальными гиперпараметрами получились max_iter = 13, n_init = 4 и max_iter = 50, n_init = 12. Выйгрыш для большего числа итераций и выборов центра не существенен, поэтому стоит ли нагружать процессор зависит от объемов данных. "
      ],
      "metadata": {
        "id": "V95d5wBD3uNO"
      }
    },
    {
      "cell_type": "markdown",
      "source": [
        "Now we will use two popular algorithms: hierarchical clustering and $K$-means clustering. These and other algorithms are available in the `scikit-learn` module in the `cluster` submodule. Hierarchical clustering is called `AgglomerativeClustering`, and the $K$-means method is called `KMeans`.\n",
        "\n",
        "**(0.5 points)** Use each of the two methods: hierarchical clustering and KMeans. Get the `X` array partition into 10 clusters.\n",
        "\n",
        "- Note that `AgglomerativeClustering` does not have a `predict` method, so you can either use the `fit_predict` method or use the `fit` method and then look at the `labels_` attribute of the class instance.\n",
        "- Kmeans performs multiple runs (default 10) with random centers and then returns the best partition in terms of average distance within the clusters. You can increase the number of runs to improve the quality of predictions in the `i_init` parameter."
      ],
      "metadata": {
        "id": "gpJex2Ua3uNO"
      }
    },
    {
      "cell_type": "code",
      "source": [
        "from sklearn.cluster import AgglomerativeClustering\n",
        "\n",
        "clustering = AgglomerativeClustering(n_clusters = 10).fit(X)\n",
        "hierarchical_labels = clustering.labels_\n",
        "hierarchical_labels"
      ],
      "metadata": {
        "execution": {
          "iopub.status.busy": "2022-04-24T18:15:37.958065Z",
          "iopub.execute_input": "2022-04-24T18:15:37.958582Z",
          "iopub.status.idle": "2022-04-24T18:15:38.126085Z",
          "shell.execute_reply.started": "2022-04-24T18:15:37.958552Z",
          "shell.execute_reply": "2022-04-24T18:15:38.125352Z"
        },
        "trusted": true,
        "colab": {
          "base_uri": "https://localhost:8080/"
        },
        "id": "AC-N6y3a3uNP",
        "outputId": "71a7d1b9-1443-48bc-8ffb-7a96107bd4f2"
      },
      "execution_count": 12,
      "outputs": [
        {
          "output_type": "execute_result",
          "data": {
            "text/plain": [
              "array([7, 9, 4, ..., 4, 1, 4])"
            ]
          },
          "metadata": {},
          "execution_count": 12
        }
      ]
    },
    {
      "cell_type": "markdown",
      "source": [
        ""
      ],
      "metadata": {
        "execution": {
          "iopub.status.busy": "2022-04-22T11:28:41.439692Z",
          "iopub.execute_input": "2022-04-22T11:28:41.440068Z",
          "iopub.status.idle": "2022-04-22T11:28:41.601445Z",
          "shell.execute_reply.started": "2022-04-22T11:28:41.440039Z",
          "shell.execute_reply": "2022-04-22T11:28:41.600637Z"
        },
        "id": "1TLCvmam3uNP"
      }
    },
    {
      "cell_type": "code",
      "source": [
        "# возьмем посчитанные ранее оптимальные параметры\n",
        "kmeans =  KMeans(init=\"k-means++\", n_clusters=10, n_init = 4, max_iter = 13, random_state=42).fit(X)\n",
        "kmeans_labels = kmeans.labels_\n",
        "kmeans_labels\n"
      ],
      "metadata": {
        "execution": {
          "iopub.status.busy": "2022-04-24T18:15:38.126900Z",
          "iopub.execute_input": "2022-04-24T18:15:38.127355Z",
          "iopub.status.idle": "2022-04-24T18:15:38.711165Z",
          "shell.execute_reply.started": "2022-04-24T18:15:38.127331Z",
          "shell.execute_reply": "2022-04-24T18:15:38.710546Z"
        },
        "trusted": true,
        "colab": {
          "base_uri": "https://localhost:8080/"
        },
        "id": "JmuSLjtn3uNQ",
        "outputId": "0f817d6e-db12-48b9-ff4e-534c02ee8062"
      },
      "execution_count": 13,
      "outputs": [
        {
          "output_type": "execute_result",
          "data": {
            "text/plain": [
              "array([0, 5, 5, ..., 5, 1, 1], dtype=int32)"
            ]
          },
          "metadata": {},
          "execution_count": 13
        }
      ]
    },
    {
      "cell_type": "code",
      "source": [
        "assert hierarchical_labels.shape == (1797,)\n",
        "assert kmeans_labels.shape == (1797,)"
      ],
      "metadata": {
        "execution": {
          "iopub.status.busy": "2022-04-24T18:15:38.713730Z",
          "iopub.execute_input": "2022-04-24T18:15:38.714309Z",
          "iopub.status.idle": "2022-04-24T18:15:38.719557Z",
          "shell.execute_reply.started": "2022-04-24T18:15:38.714278Z",
          "shell.execute_reply": "2022-04-24T18:15:38.719072Z"
        },
        "trusted": true,
        "id": "S5vL4jGP3uNQ"
      },
      "execution_count": 14,
      "outputs": []
    },
    {
      "cell_type": "markdown",
      "source": [
        "**(0.5 points)** Visualize the centers of clusters obtained by both methods."
      ],
      "metadata": {
        "id": "86V1F4kq3uNQ"
      }
    },
    {
      "cell_type": "code",
      "source": [
        "# Иерархический метод с параметрами по дефолту\n",
        "hiararchical_labels = clustering.labels_ #labels = kmeans.predict(X)\n",
        "hiararchical_centers = []\n",
        "for cluster in range(10):\n",
        "    hiararchical_centers.append(np.mean(X[hiararchical_labels == cluster],axis = 0))\n",
        "\n",
        "_, axes = plt.subplots(nrows=2, ncols=5, figsize=(10, 5))\n",
        "for ax, image_average, label in zip(axes.flatten(), hiararchical_centers, hiararchical_labels):\n",
        "    ax.set_axis_off()    \n",
        "    ax.imshow(image_average.reshape((8, 8)), cmap=plt.cm.afmhot_r)"
      ],
      "metadata": {
        "execution": {
          "iopub.status.busy": "2022-04-24T18:15:38.721324Z",
          "iopub.execute_input": "2022-04-24T18:15:38.721622Z",
          "iopub.status.idle": "2022-04-24T18:15:39.076888Z",
          "shell.execute_reply.started": "2022-04-24T18:15:38.721585Z",
          "shell.execute_reply": "2022-04-24T18:15:39.076123Z"
        },
        "trusted": true,
        "colab": {
          "base_uri": "https://localhost:8080/",
          "height": 275
        },
        "id": "WQ81TdIe3uNR",
        "outputId": "af6b8dee-2985-4c5b-f322-6914e5a962a6"
      },
      "execution_count": 15,
      "outputs": [
        {
          "output_type": "display_data",
          "data": {
            "text/plain": [
              "<Figure size 720x360 with 10 Axes>"
            ],
            "image/png": "[encoded data removed]"
          },
          "metadata": {
            "needs_background": "light"
          }
        }
      ]
    },
    {
      "cell_type": "code",
      "source": [
        "# Kmean с оптимальными параметрами\n",
        "kmeans_labels = kmeans.labels_ #labels = kmeans.predict(X)\n",
        "kmeans_centers = kmeans.cluster_centers_\n",
        "print(kmeans_centers.shape)\n",
        "print(kmeans_labels.shape)\n",
        "_, axes = plt.subplots(nrows=2, ncols=5, figsize=(10, 5))\n",
        "for ax, image_average, label in zip(axes.flatten(), kmeans_centers, kmeans_labels):\n",
        "    ax.set_axis_off()    \n",
        "    ax.imshow(image_average.reshape((8, 8)), cmap=plt.cm.afmhot_r)"
      ],
      "metadata": {
        "execution": {
          "iopub.status.busy": "2022-04-24T18:15:39.077989Z",
          "iopub.execute_input": "2022-04-24T18:15:39.078195Z",
          "iopub.status.idle": "2022-04-24T18:15:39.629148Z",
          "shell.execute_reply.started": "2022-04-24T18:15:39.078168Z",
          "shell.execute_reply": "2022-04-24T18:15:39.628440Z"
        },
        "trusted": true,
        "colab": {
          "base_uri": "https://localhost:8080/",
          "height": 310
        },
        "id": "42Q80UBv3uNR",
        "outputId": "8bda31c3-79d4-481a-9164-1468139adf88"
      },
      "execution_count": 16,
      "outputs": [
        {
          "output_type": "stream",
          "name": "stdout",
          "text": [
            "(10, 64)\n",
            "(1797,)\n"
          ]
        },
        {
          "output_type": "display_data",
          "data": {
            "text/plain": [
              "<Figure size 720x360 with 10 Axes>"
            ],
            "image/png": "[encoded data removed]"
          },
          "metadata": {
            "needs_background": "light"
          }
        }
      ]
    },
    {
      "cell_type": "markdown",
      "source": [
        "Объективно kmean с оптимальными параметры визуально показал лучший результат, в сравнии с иерархическим методом и самим с собой с гиперпаметрами по умолчанию(это особенно приятно)."
      ],
      "metadata": {
        "id": "RtXli0R73uNT"
      }
    },
    {
      "cell_type": "markdown",
      "source": [
        "In a situation where the true number of classes is unknown, we can select it by maximazing some metric.\n",
        "\n",
        "When we can set some distance function between our observations, we can consider the `silhouette` distance as a function of measuring the quality of the clustering. Let's show how it is calculated:"
      ],
      "metadata": {
        "id": "lP_P-SFR3uNU"
      }
    },
    {
      "cell_type": "markdown",
      "source": [
        "Let $X$ – set of observations, $M \\subset X$ – one of the clusters obtained as a result of clustering process, $\\rho$ – some metric on $X$. Let's choose one observation $x \\in M$. Denote $a(x)$ as the average distance from $x$ to  $x'$ points from the same cluster:\n",
        "$$\n",
        "a(x) = \\frac{1}{|M| - 1} \\sum_{x' \\in M,\\, x' \\ne x} \\rho(x,\\, x')\n",
        "$$\n",
        "\n",
        "Denote $b(x)$ as minimun of average distances from $x$ to $x''$ from some other cluster $N$:\n",
        "$$\n",
        "b(x) = \\min_{N \\ne M} \\frac{1}{|N|} \\sum_{x'' \\in N} \\rho(x,\\, x'')\n",
        "$$\n",
        "\n",
        "The silhouette is difference between a(x) and b(x), normalized to $[-1, \\, 1]$ and averaged over all observations:\n",
        "$$\n",
        "\\frac{1}{|X|} \\sum_{x \\in X} \\frac{b(x) - a(x)}{\\max(a(x),\\, b(x))}\n",
        "$$\n",
        "\n",
        "The implementation of this metric in the `scikit-learn` is the `silhouette_score` function from the `metrics` submidule."
      ],
      "metadata": {
        "id": "PZQlm6ec3uNU"
      }
    },
    {
      "cell_type": "markdown",
      "source": [
        "**(1 point)** For each $K$ between 2 and 20 inclusive, partition of the array $X$ into $K$ clusters using both methods. Calculate the silhouette score and visualize it for both methods on the same plot ($K$ on the $x$ axis and silhouette score on the $y$ axis). Sign the axes and make a legend."
      ],
      "metadata": {
        "id": "jaCbVYFr3uNV"
      }
    },
    {
      "cell_type": "code",
      "source": [
        "from sklearn.metrics import silhouette_score\n",
        "K = np.linspace(2, 20, 0 + 19, dtype=int)\n",
        "# для сохранения метрик\n",
        "result_kmean = []\n",
        "result_hierarchical = []\n",
        "for k in K:\n",
        "    kmean_labels=KMeans(init=\"k-means++\", n_clusters=k, n_init = 4, max_iter = 13, random_state=42).fit(X).labels_\n",
        "    hierarchical_labels = AgglomerativeClustering(n_clusters = k).fit_predict(X)\n",
        "    silhouette_kmean = silhouette_score(X,kmean_labels, metric='euclidean')\n",
        "    result_kmean.append(silhouette_kmean) \n",
        "    silhouette_hierarchical = silhouette_score(X,hierarchical_labels, metric='euclidean')\n",
        "    result_hierarchical.append(silhouette_hierarchical)\n",
        "\n",
        "plt.plot(K, result_kmean, label= 'kmeans')\n",
        "plt.plot(K, result_hierarchical, label= 'AgglomerativeClustering')\n",
        "plt.xlabel('K, clusters_amount' )\n",
        "plt.ylabel('silhouette')\n",
        "plt.legend()\n",
        "plt.show()"
      ],
      "metadata": {
        "execution": {
          "iopub.status.busy": "2022-04-24T18:15:39.630049Z",
          "iopub.execute_input": "2022-04-24T18:15:39.630207Z",
          "iopub.status.idle": "2022-04-24T18:15:54.390175Z",
          "shell.execute_reply.started": "2022-04-24T18:15:39.630186Z",
          "shell.execute_reply": "2022-04-24T18:15:54.389797Z"
        },
        "trusted": true,
        "colab": {
          "base_uri": "https://localhost:8080/",
          "height": 280
        },
        "id": "jHBr6Hq73uNV",
        "outputId": "24df3c69-06e0-4bf6-c1fe-03feefb60e8d"
      },
      "execution_count": 17,
      "outputs": [
        {
          "output_type": "display_data",
          "data": {
            "text/plain": [
              "<Figure size 432x288 with 1 Axes>"
            ],
            "image/png": "[encoded data removed]"
          },
          "metadata": {
            "needs_background": "light"
          }
        }
      ]
    },
    {
      "cell_type": "markdown",
      "source": [
        "When we know the true clustering labels, the clustering result can be compared to them using measures such as `homogeneity`, `completeness` and their harmonic mean - $V$-score. The definitions of these quantities are rather bulky and are based on the [entropy of the probability distribution](https://ru.wikipedia.org/wiki/Информационная_энтропия). Details are given in [this article](http://aclweb.org/anthology/D/D07/D07-1043.pdf). In practice, it's enough to know that `homogeneity`, `completeness` and $V$-score are in the range from 0 and 1, and the more, the better.\n",
        "\n",
        "Since we know what digit each image is (`y` array), we can compare the clustering results to it using the measures listed above."
      ],
      "metadata": {
        "id": "HrX2kkTq3uNW"
      }
    },
    {
      "cell_type": "markdown",
      "source": [
        "**(0.5 points)** Repeat the previous task using $V$-measure instead of silhouette."
      ],
      "metadata": {
        "id": "_rZyD4IU3uNW"
      }
    },
    {
      "cell_type": "code",
      "source": [
        "#v = (1 + beta) * homogeneity * completeness / (beta * homogeneity + completeness)\n",
        "from sklearn.metrics.cluster import v_measure_score\n",
        "K = np.linspace(2, 20, 0 + 19, dtype=int)\n",
        "# для сохранения метрик\n",
        "result_kmean = []\n",
        "result_hierarchical = []\n",
        "for k in K:\n",
        "    kmean_labels=KMeans(init=\"k-means++\", n_clusters=k, n_init = 4, max_iter = 13, random_state=42).fit(X).labels_\n",
        "    hierarchical_labels = AgglomerativeClustering(n_clusters = k).fit_predict(X)\n",
        "    v_score_kmean = v_measure_score(y,kmean_labels)\n",
        "    result_kmean.append(v_score_kmean) \n",
        "    v_score_hierarchical = v_measure_score(y,hierarchical_labels)\n",
        "    result_hierarchical.append(v_score_hierarchical)\n",
        "\n",
        "plt.plot(K, result_kmean, label= 'kmeans')\n",
        "plt.plot(K, result_hierarchical, label= 'AgglomerativeClustering')\n",
        "plt.xlabel('K, clusters_amount' )\n",
        "plt.ylabel('v-score')\n",
        "plt.legend()\n",
        "plt.show()"
      ],
      "metadata": {
        "execution": {
          "iopub.status.busy": "2022-04-24T18:15:54.391202Z",
          "iopub.execute_input": "2022-04-24T18:15:54.391555Z",
          "iopub.status.idle": "2022-04-24T18:16:07.882390Z",
          "shell.execute_reply.started": "2022-04-24T18:15:54.391525Z",
          "shell.execute_reply": "2022-04-24T18:16:07.881848Z"
        },
        "trusted": true,
        "colab": {
          "base_uri": "https://localhost:8080/",
          "height": 280
        },
        "id": "FoGH3eGy3uNX",
        "outputId": "caf44085-58b2-4b5d-9450-0497f4bc46f3"
      },
      "execution_count": 18,
      "outputs": [
        {
          "output_type": "display_data",
          "data": {
            "text/plain": [
              "<Figure size 432x288 with 1 Axes>"
            ],
            "image/png": "[encoded data removed]"
          },
          "metadata": {
            "needs_background": "light"
          }
        }
      ]
    },
    {
      "cell_type": "markdown",
      "source": [
        "## 3. Feature space dimensionality reduction\n",
        "\n",
        "In some cases, especially when there are a large number of features, when not all of them are informative, and some of them are correlated, it can be useful to reduce the dimension of the feature space. This mean that instead of $d$ original features, we will go to $d'\\ll d$ new ones. And if earlier our data were presented in the form of an $n×d$ matrix, then it will presented as a $n×d'$.\n",
        "\n",
        "There are two popular dimensionality reduction approaches:\n",
        "- select new features from existing features;\n",
        "- extract the new features by transforming old ones, for example, by making $d'$ different linear combinations of columns of an $n×d$ matrix.\n",
        "\n",
        "One widely used dimensionality reduction technique is the Singular Value Decomposition (SVD). This method allows you to construct any number $d'\\leq d$ of new features in such a way that they are the most informative (in some sense).\n",
        "\n",
        "The `scikit-learn` module has several implementations of singular value decomposition. We will use the `TruncatedSVD` class from the `decomposition` submodule.\n",
        "\n",
        "**Note:** The singular value decomposition of the matrix $M$ is usually written as $M=U \\Sigma V^{*}$. `TruncatedSVD`, in turn, returns only the $d'$ first columns of the matrix $U$."
      ],
      "metadata": {
        "id": "7dhRiQaM3uNX"
      }
    },
    {
      "cell_type": "markdown",
      "source": [
        "**(1 point)** Perform a singular value decomposition of the $X$ matrix, leaving 2, 5, 10, 20 features. In each case, perform hierarchical clustering and $K$-Means clustering (take the number of clusters equal to 10). Calculate the silhouette and $V$-score and compare them to corresponding values obtained from the original data.\n",
        "\n",
        "**Note**: It is not valid to compare the silhouette calculated with different metrics. Even if we use the same metric function when calculating the distance between points in the data, after applying dimensionality reduction or other data transformations, we will (not always) get different silhouette scores. Therefore, after training the clustering algorithm, to compare the result of clustering, you need to calculate the silhouette on the original data."
      ],
      "metadata": {
        "id": "FXELM49D3uNY"
      }
    },
    {
      "cell_type": "code",
      "source": [
        "from sklearn.decomposition import TruncatedSVD\n",
        "from sklearn.metrics.cluster import v_measure_score\n",
        "features_count = [2,5,10,20]\n",
        "# для сохранения метрик\n",
        "result_v_score_kmean = []\n",
        "result_v_score_hierarchical = []\n",
        "result_silhouette_kmean = []\n",
        "result_silhouette_hierarchical=[]\n",
        "result_silhouette_kmean_original = []\n",
        "result_silhouette_hierarchical_original=[]\n",
        "for count in features_count:\n",
        "    svd = TruncatedSVD(n_components=count, random_state=42)\n",
        "    # надеюсь правильно, так как умельшаем фитчи из 64 должно остаться [2,5,10,20] столбцов соответвенно\n",
        "    svd.fit(X.T)\n",
        "    X_svd = svd.components_.T\n",
        "    print(X_svd.shape)\n",
        "    kmean_labels=KMeans(init=\"k-means++\", n_clusters=10, n_init = 4, max_iter = 13, random_state=42).fit(X_svd).labels_\n",
        "    hierarchical_labels = AgglomerativeClustering(n_clusters = 10).fit_predict(X_svd)\n",
        "    silhouette_kmean = silhouette_score(X_svd,kmean_labels, metric='euclidean')\n",
        "    silhouette_kmean_original = silhouette_score(X,kmean_labels, metric='euclidean')\n",
        "    v_score_kmean = v_measure_score(y,kmean_labels)\n",
        "    result_silhouette_kmean.append(silhouette_kmean) \n",
        "    result_silhouette_kmean_original.append(silhouette_kmean_original)\n",
        "    result_v_score_kmean.append(v_score_kmean) \n",
        "    silhouette_hierarchical = silhouette_score(X_svd,hierarchical_labels, metric='euclidean')\n",
        "    silhouette_hierarchical_original = silhouette_score(X,hierarchical_labels, metric='euclidean')\n",
        "    v_score_hierarchical = v_measure_score(y,hierarchical_labels)\n",
        "    result_silhouette_hierarchical.append(silhouette_hierarchical)\n",
        "    result_silhouette_hierarchical_original.append(silhouette_hierarchical_original)\n",
        "    result_v_score_hierarchical.append(v_score_hierarchical)\n",
        "\n",
        "plt.plot(features_count, result_silhouette_kmean, label= 'kmeans')\n",
        "plt.plot(features_count, result_silhouette_kmean_original, label= 'kmeans original')\n",
        "plt.plot(features_count, result_silhouette_hierarchical, label= 'AgglomerativeClustering')\n",
        "plt.plot(features_count, result_silhouette_hierarchical_original, label= 'AgglomerativeClustering original')\n",
        "plt.xlabel('Features count [2,5,10,20]' )\n",
        "plt.ylabel('silhouette')\n",
        "plt.legend()\n",
        "plt.show()\n",
        "\n",
        "plt.plot(features_count, result_v_score_kmean, label= 'kmeans')\n",
        "plt.plot(features_count, result_v_score_hierarchical, label= 'AgglomerativeClustering')\n",
        "plt.xlabel('Features count [2,5,10,20]' )\n",
        "plt.ylabel('v-score')\n",
        "plt.legend()\n",
        "plt.show()    "
      ],
      "metadata": {
        "execution": {
          "iopub.status.busy": "2022-04-24T18:16:07.883537Z",
          "iopub.execute_input": "2022-04-24T18:16:07.883886Z",
          "iopub.status.idle": "2022-04-24T18:16:10.840322Z",
          "shell.execute_reply.started": "2022-04-24T18:16:07.883856Z",
          "shell.execute_reply": "2022-04-24T18:16:10.839854Z"
        },
        "trusted": true,
        "colab": {
          "base_uri": "https://localhost:8080/",
          "height": 610
        },
        "id": "dDgs_lWL3uNY",
        "outputId": "748d7446-9518-4fa3-dd87-deb436ce58a9"
      },
      "execution_count": 19,
      "outputs": [
        {
          "output_type": "stream",
          "name": "stdout",
          "text": [
            "(1797, 2)\n",
            "(1797, 5)\n",
            "(1797, 10)\n",
            "(1797, 20)\n"
          ]
        },
        {
          "output_type": "display_data",
          "data": {
            "text/plain": [
              "<Figure size 432x288 with 1 Axes>"
            ],
            "image/png": "[encoded data removed]"
          },
          "metadata": {
            "needs_background": "light"
          }
        },
        {
          "output_type": "display_data",
          "data": {
            "text/plain": [
              "<Figure size 432x288 with 1 Axes>"
            ],
            "image/png": "[encoded data removed]"
          },
          "metadata": {
            "needs_background": "light"
          }
        }
      ]
    },
    {
      "cell_type": "markdown",
      "source": [
        "Another popular dimensionality reduction approach that is useful for working with images is t-distributed stochastic neighbor embeddings, abbreviated `tSNE`. Unlike singular value decomposition, this it is non-linear transformation. It's main idea is to map points from a space of dimension `d` to another space of dimension 2 or 3 in such a way that the distances between points are mostly preserved. Mathematical details can be found, for example, [here](https://en.wikipedia.org/wiki/T-distributed_stochastic_neighbor_embedding).\n",
        "\n",
        "The implementation of `tSNE` in the `scikit-learn` library is the `TSNE` class in the `manifold` submodule.\n",
        "\n",
        "**Note:** In recent years [UMAP](https://github.com/lmcinnes/umap) is often used istead of `tSNE`. It is a faster algorithm with similar properties. We don't ask you to use `UMAP` because it requires you to install another dependency, the `umap-learn` library. Those who wish can perform the following task using `UMAP`."
      ],
      "metadata": {
        "id": "9cQvc2zh3uNZ"
      }
    },
    {
      "cell_type": "markdown",
      "source": [
        "**(0.5 points)** Perform a tSNE-transform of the `X` matrix, leaving 2 features. Visualize the obtained data in the form of a scatter plot form: the first feature on the horizontal axis, and the second one the vertical axis. Color the points according to the digits they belong to.\n",
        "\n",
        "- The `c` parameter in the plt.scatter function is responsible for the color of the points. Pass the true labels to it."
      ],
      "metadata": {
        "id": "PdLb3dQY3uNZ"
      }
    },
    {
      "cell_type": "code",
      "source": [
        "from sklearn.manifold import TSNE\n",
        "\n",
        "#colors = np.random.rand(10)\n",
        "y_cut = TSNE(n_components=2, random_state = 42).fit_transform(X)\n",
        "plt.scatter(y_cut[:,0], y_cut[:,1], c=y, cmap= plt.cm.viridis)\n",
        "plt.show()\n"
      ],
      "metadata": {
        "execution": {
          "iopub.status.busy": "2022-04-24T18:16:10.841134Z",
          "iopub.execute_input": "2022-04-24T18:16:10.841345Z",
          "iopub.status.idle": "2022-04-24T18:16:16.944750Z",
          "shell.execute_reply.started": "2022-04-24T18:16:10.841325Z",
          "shell.execute_reply": "2022-04-24T18:16:16.944363Z"
        },
        "trusted": true,
        "colab": {
          "base_uri": "https://localhost:8080/",
          "height": 334
        },
        "id": "YfKX4BO83uNa",
        "outputId": "c333466b-9644-4f10-ecd7-845f93aa4029"
      },
      "execution_count": 20,
      "outputs": [
        {
          "output_type": "stream",
          "name": "stderr",
          "text": [
            "/usr/local/lib/python3.7/dist-packages/sklearn/manifold/_t_sne.py:783: FutureWarning: The default initialization in TSNE will change from 'random' to 'pca' in 1.2.\n",
            "  FutureWarning,\n",
            "/usr/local/lib/python3.7/dist-packages/sklearn/manifold/_t_sne.py:793: FutureWarning: The default learning rate in TSNE will change from 200.0 to 'auto' in 1.2.\n",
            "  FutureWarning,\n"
          ]
        },
        {
          "output_type": "display_data",
          "data": {
            "text/plain": [
              "<Figure size 432x288 with 1 Axes>"
            ],
            "image/png": "[encoded data removed]"
          },
          "metadata": {
            "needs_background": "light"
          }
        }
      ]
    },
    {
      "cell_type": "markdown",
      "source": [
        "**(0.5 points)** From the data transformed using the tSNE, perform hierarchical clustering and $K$-means clustering (take the number of clusters equal to 10). Calculate the silhouette and the $V$-score and compare them to corresponding values obtained from the original data."
      ],
      "metadata": {
        "id": "J69cA5vH3uNa"
      }
    },
    {
      "cell_type": "code",
      "source": [
        "from sklearn.manifold import TSNE\n",
        "from sklearn.metrics import silhouette_score\n",
        "x_tsne = TSNE(n_components=2, init='pca',learning_rate = 'auto', random_state = 42).fit(X).embedding_\n",
        "\n",
        "#KMEANS\n",
        "model = KMeans(init=\"k-means++\", n_clusters=10, n_init = 4, max_iter = 13, random_state=42)\n",
        "kmean_labels = model.fit(x_tsne).labels_\n",
        "silhouette_kmean = silhouette_score(x_tsne,kmean_labels, metric='euclidean')\n",
        "silhouette_kmean_original = silhouette_score(X,kmean_labels, metric='euclidean')\n",
        "v_score_kmean = v_measure_score(y,kmean_labels)\n",
        "#Hierarchical\n",
        "hierarchical_labels = AgglomerativeClustering(n_clusters = 10).fit_predict(x_tsne)\n",
        "silhouette_hierarchical = silhouette_score(x_tsne,hierarchical_labels, metric='euclidean')\n",
        "silhouette_hierarchical_original = silhouette_score(X,hierarchical_labels, metric='euclidean')\n",
        "v_score_hierarchical = v_measure_score(y,hierarchical_labels)\n",
        "print(f'silhouette_kmean_original: {silhouette_kmean_original},\\\n",
        "      \\nsilhouette_kmean_tsne: {silhouette_kmean},\\\n",
        "      \\nsilhouette_hierarchical_original: {silhouette_hierarchical_original},\\\n",
        "      \\nsilhouette_hierarchical: {silhouette_hierarchical},\\\n",
        "      \\nv_score_kmean_tsne: {silhouette_kmean},\\\n",
        "      \\nv_score_hierarchical_tsne: {v_score_hierarchical}')\n"
      ],
      "metadata": {
        "execution": {
          "iopub.status.busy": "2022-04-24T18:16:16.945528Z",
          "iopub.execute_input": "2022-04-24T18:16:16.945743Z",
          "iopub.status.idle": "2022-04-24T18:16:24.528176Z",
          "shell.execute_reply.started": "2022-04-24T18:16:16.945724Z",
          "shell.execute_reply": "2022-04-24T18:16:24.527708Z"
        },
        "trusted": true,
        "colab": {
          "base_uri": "https://localhost:8080/"
        },
        "id": "9eSe_B883uNa",
        "outputId": "adaad3a2-c4f7-4cf8-e07e-32f99e1ab755"
      },
      "execution_count": 21,
      "outputs": [
        {
          "output_type": "stream",
          "name": "stderr",
          "text": [
            "/usr/local/lib/python3.7/dist-packages/sklearn/manifold/_t_sne.py:986: FutureWarning: The PCA initialization in TSNE will change to have the standard deviation of PC1 equal to 1e-4 in 1.2. This will ensure better convergence.\n",
            "  FutureWarning,\n"
          ]
        },
        {
          "output_type": "stream",
          "name": "stdout",
          "text": [
            "silhouette_kmean_original: 0.16323738175863348,      \n",
            "silhouette_kmean_tsne: 0.628582775592804,      \n",
            "silhouette_hierarchical_original: 0.16326787180212476,      \n",
            "silhouette_hierarchical: 0.630121648311615,      \n",
            "v_score_kmean_tsne: 0.628582775592804,      \n",
            "v_score_hierarchical_tsne: 0.9133680655123593\n"
          ]
        }
      ]
    },
    {
      "cell_type": "markdown",
      "source": [
        "**(0.25 points)** Choose the best partition (in terms of silhouette or $V$-score) and visualize the centers of clusters with images. Did you managed to make each digit correspond to one center of the cluster?"
      ],
      "metadata": {
        "id": "So9IhIUW3uNb"
      }
    },
    {
      "cell_type": "code",
      "source": [
        "from sklearn.neighbors import NearestCentroid\n",
        "x_tsne = TSNE(n_components=2, init='pca',learning_rate = 'auto', random_state = 42).fit_transform(X)\n",
        "\n",
        "hierarchical_labels = AgglomerativeClustering(n_clusters = 10).fit(x_tsne).labels_\n",
        "clf = NearestCentroid()\n",
        "\n",
        "hiararchical_centers = clf.fit(x_tsne, hierarchical_labels).centroids_\n",
        "_, axes = plt.subplots(nrows=2, ncols=5, figsize=(10, 5))\n",
        "for ax, image_average, label in zip(axes.flatten(), X, hierarchical_labels):\n",
        "    ax.set_axis_off()    \n",
        "    ax.imshow(image_average.reshape((8,8)), cmap=plt.cm.afmhot_r)\n",
        "    "
      ],
      "metadata": {
        "execution": {
          "iopub.status.busy": "2022-04-24T18:27:04.774519Z",
          "iopub.execute_input": "2022-04-24T18:27:04.774771Z",
          "iopub.status.idle": "2022-04-24T18:27:12.410115Z",
          "shell.execute_reply.started": "2022-04-24T18:27:04.774745Z",
          "shell.execute_reply": "2022-04-24T18:27:12.409349Z"
        },
        "trusted": true,
        "colab": {
          "base_uri": "https://localhost:8080/",
          "height": 330
        },
        "id": "vtwYYRyz3uNb",
        "outputId": "d7bc0e94-ef7b-4d35-981d-c50c2f0b73b0"
      },
      "execution_count": 22,
      "outputs": [
        {
          "output_type": "stream",
          "name": "stderr",
          "text": [
            "/usr/local/lib/python3.7/dist-packages/sklearn/manifold/_t_sne.py:986: FutureWarning: The PCA initialization in TSNE will change to have the standard deviation of PC1 equal to 1e-4 in 1.2. This will ensure better convergence.\n",
            "  FutureWarning,\n"
          ]
        },
        {
          "output_type": "display_data",
          "data": {
            "text/plain": [
              "<Figure size 720x360 with 10 Axes>"
            ],
            "image/png": "[encoded data removed]"
          },
          "metadata": {
            "needs_background": "light"
          }
        }
      ]
    },
    {
      "cell_type": "markdown",
      "source": [
        "## 4. Results and bonus part"
      ],
      "metadata": {
        "id": "3MVup2G33uNc"
      }
    },
    {
      "cell_type": "markdown",
      "source": [
        "Write in free form what conclusions you made after completing this assignment. Answer the following questions:\n",
        "\n",
        "**(0.5 points)** Which algorithm gives more meaningful results - hierarchical clustering or $K$- means clustering. Does it depend on the algorithm settings or on the quality evaluation method?"
      ],
      "metadata": {
        "id": "qt_Oz3ly3uNc"
      }
    },
    {
      "cell_type": "markdown",
      "source": [
        "Выбор оптимальных гиперпарметров улучшает качество моделей.\n",
        "В расмотренных выше примерах иерархическая кластеризация показывала лучшие метрики."
      ],
      "metadata": {
        "id": "JTAd6xAj4fjL"
      }
    },
    {
      "cell_type": "markdown",
      "source": [
        "**(0.5 points)** Imagine the situation where after hierarchical clustering, you need to cluster new data in the same way without retraining the model. Suggest a method how you will do it and how you will measure the quality of clustering of new data."
      ],
      "metadata": {
        "id": "sNX0GC3f3uNd"
      }
    },
    {
      "cell_type": "code",
      "source": [
        ""
      ],
      "metadata": {
        "id": "tFUAVZL93uNd"
      },
      "execution_count": null,
      "outputs": []
    },
    {
      "cell_type": "markdown",
      "source": [
        "**(0.5 points)** Does dimensionality reduction improve clustering results?"
      ],
      "metadata": {
        "id": "2lEBPR9t3uNe"
      }
    },
    {
      "cell_type": "markdown",
      "source": [
        "Уменьшение размерности показало самый положительный эффект"
      ],
      "metadata": {
        "id": "inBBKIjd4pqK"
      }
    },
    {
      "cell_type": "markdown",
      "source": [
        "**(0.5)** How to evaluate the quality of dimensional reducrion? Suggest at least 2 options."
      ],
      "metadata": {
        "id": "-IfhEg0k3uNe"
      }
    },
    {
      "cell_type": "code",
      "source": [
        ""
      ],
      "metadata": {
        "id": "FrB14lgv3uNf"
      },
      "execution_count": null,
      "outputs": []
    },
    {
      "cell_type": "markdown",
      "source": [
        "**(Bonus 2 points)** Load the [MNIST Handwritten Digits](http://yann.lecun.com/exdb/mnist) dataset. You can also do it with `scikit-learn` as explained [here](https://stackoverflow.com/a/60450028). Explore the data and try to cluster it using different approaches. Compare results of these approaches using the silhouette and the $V$-score."
      ],
      "metadata": {
        "id": "m_zQHGCn3uNf"
      }
    },
    {
      "cell_type": "code",
      "source": [
        ""
      ],
      "metadata": {
        "id": "5SJ8YYSj3uNf"
      },
      "execution_count": null,
      "outputs": []
    }
  ]
}